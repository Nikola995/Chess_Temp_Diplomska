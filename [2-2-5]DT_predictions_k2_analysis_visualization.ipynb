{
 "cells": [
  {
   "cell_type": "markdown",
   "id": "c2c23d52",
   "metadata": {},
   "source": [
    "# Meta-data"
   ]
  },
  {
   "cell_type": "code",
   "execution_count": 64,
   "id": "de0c0d26",
   "metadata": {},
   "outputs": [
    {
     "data": {
      "text/plain": [
       "['linear_1_400_Jiyarkhan_k2.csv']"
      ]
     },
     "execution_count": 64,
     "metadata": {},
     "output_type": "execute_result"
    }
   ],
   "source": [
    "#OS libs\n",
    "import os\n",
    "import sys\n",
    "from pathlib import Path\n",
    "from io import StringIO\n",
    "#Data handling libs\n",
    "import pandas as pd\n",
    "from tqdm import tqdm\n",
    "from chess.pgn import read_game, BaseVisitor\n",
    "import chess.engine\n",
    "#Data visualization libraries\n",
    "import matplotlib.pyplot as plt\n",
    "from matplotlib.colors import LogNorm\n",
    "from matplotlib import dates as mdates\n",
    "from matplotlib.dates import DateFormatter\n",
    "from matplotlib.ticker import MultipleLocator, FuncFormatter, LogLocator\n",
    "from mpl_toolkits.mplot3d import Axes3D\n",
    "import seaborn as sns\n",
    "import matplotlib.patches as mplp\n",
    "\n",
    "#Meta-data\n",
    "dt_pred_folder = os.path.join(os.getcwd(),'dt_chess','training_losses_k2')\n",
    "state_emb_type = 'linear'\n",
    "predictions = os.listdir(dt_pred_folder)\n",
    "predictions = [x for x in predictions if x.partition('_')[0] == state_emb_type]\n",
    "k_value = 'k2.csv'\n",
    "predictions = [x for x in predictions if x.rpartition('_')[-1] == k_value]\n",
    "predictions"
   ]
  },
  {
   "cell_type": "markdown",
   "id": "818fe7e5",
   "metadata": {},
   "source": [
    "# Filter prediction files"
   ]
  },
  {
   "cell_type": "code",
   "execution_count": 65,
   "id": "9600cde5",
   "metadata": {},
   "outputs": [],
   "source": [
    "def filter_by(files, num_users = 0, user = 0):\n",
    "    if num_users:\n",
    "        filtered_files = [x for x in files if int(x.split('_')[1]) == num_users]\n",
    "        # Sort ascending\n",
    "        filtered_files.sort(key=lambda x: int(x.split('_')[2]),\n",
    "                                  reverse=True)\n",
    "        return filtered_files\n",
    "    elif user:\n",
    "        filtered_files = [x for x  in files if int(x.split('_')[2]) == user]\n",
    "        # Sort ascending\n",
    "        filtered_files.sort(key=lambda x: int(x.split('_')[1]))\n",
    "        return filtered_files\n",
    "    else:\n",
    "        raise ValueError()\n",
    "#first_user = filter_by(predictions, user=400)"
   ]
  },
  {
   "cell_type": "markdown",
   "id": "4314b003",
   "metadata": {},
   "source": [
    "# First model/user analysis"
   ]
  },
  {
   "cell_type": "code",
   "execution_count": 66,
   "id": "8aa47474",
   "metadata": {},
   "outputs": [
    {
     "data": {
      "text/plain": [
       "'linear_1_400_Jiyarkhan_k2.csv'"
      ]
     },
     "execution_count": 66,
     "metadata": {},
     "output_type": "execute_result"
    }
   ],
   "source": [
    "first_user = filter_by(predictions, user=400)\n",
    "mu_1 = first_user[0]\n",
    "mu_1"
   ]
  },
  {
   "cell_type": "markdown",
   "id": "feafffd5",
   "metadata": {},
   "source": [
    "## Accuracy"
   ]
  },
  {
   "cell_type": "code",
   "execution_count": 67,
   "id": "295e0faf",
   "metadata": {
    "scrolled": true
   },
   "outputs": [
    {
     "name": "stdout",
     "output_type": "stream",
     "text": [
      "total: 131,712 tp1: 131,709 tp2: 2 tp3: 0 fp: 8 tn: 1 tn1: 3 acc: 99.997722%\n"
     ]
    }
   ],
   "source": [
    "pred_df = pd.read_csv(os.path.join(dt_pred_folder,\n",
    "                                   mu_1),\n",
    "                      index_col=None)\n",
    "\n",
    "original_total = len(pred_df)\n",
    "tp1_original = len(pred_df[pred_df['move'] == pred_df['engine_move_1']])\n",
    "tp2_original = len(pred_df[pred_df['move'] == pred_df['engine_move_2']])\n",
    "tp3_original = len(pred_df[pred_df['move'] == pred_df['engine_move_3']])\n",
    "fp_original = len(pred_df[pred_df['illegal_top_move']])\n",
    "tn_original = original_total - (tp1_original + tp2_original + tp3_original)\n",
    "#tn_original = pred_df[~pred_df[['engine_move_1', 'engine_move_2', 'engine_move_3']].isin(pred_df['move']).any(1)]\n",
    "print(f\"total: {original_total:,} tp1: {tp1_original:,} \"\n",
    "      f\"tp2: {tp2_original:,} tp3: {tp3_original:,} \"\n",
    "      f\"fp: {fp_original:,} tn: {tn_original:,} \"\n",
    "      f\"tn1: {original_total-tp1_original:,} acc: {(tp1_original/original_total)*100:,f}%\")"
   ]
  },
  {
   "cell_type": "markdown",
   "id": "f886d6cf",
   "metadata": {},
   "source": [
    "tp1 - Model's number 1 choice is the correct move\\\n",
    "tp2 - Model's number 2 choice is the correct move\\\n",
    "tp3 - Model's number 3 choice is the correct move\\\n",
    "fp - Highest probability in prediction vector is for an illegal move\\\n",
    "tn - The correct move is not in the model's top 3 choices\\\n",
    "tn1 - The correct move is not in the model's number 1 choice\\\n",
    "acc - Model's accuracy"
   ]
  },
  {
   "cell_type": "markdown",
   "id": "b0e832b7",
   "metadata": {},
   "source": [
    "### Removing unneccesarry predictions"
   ]
  },
  {
   "cell_type": "code",
   "execution_count": 68,
   "id": "99887f42",
   "metadata": {},
   "outputs": [
    {
     "name": "stdout",
     "output_type": "stream",
     "text": [
      "Number of duplicates: 0\n",
      "Non-duplicates total: 131,712\n"
     ]
    }
   ],
   "source": [
    "# Duplicate position-move\n",
    "pred_df_mod = pred_df.drop_duplicates()\n",
    "num_duplicates = original_total - len(pred_df_mod)\n",
    "print(f'Number of duplicates: {num_duplicates:,}\\n'\n",
    "      f'Non-duplicates total: {original_total-num_duplicates:,}')"
   ]
  },
  {
   "cell_type": "code",
   "execution_count": 69,
   "id": "37dae845",
   "metadata": {
    "scrolled": true
   },
   "outputs": [
    {
     "name": "stdout",
     "output_type": "stream",
     "text": [
      "Common positions with train data: 6,268\n",
      "Total predictions (unique position-moves): 125,444\n"
     ]
    }
   ],
   "source": [
    "# Common position-move with train data\n",
    "# %% Train data\n",
    "train_datasets = os.listdir(os.path.join(os.getcwd(),\n",
    "                                         'dt_chess',\n",
    "                                         'datasets'))\n",
    "train_data = [x for x in train_datasets if x.partition('_')[0] == mu_1.split('_')[2]][0]\n",
    "train_df = pd.read_csv(os.path.join(os.getcwd(),\n",
    "                                    'dt_chess',\n",
    "                                    'datasets',\n",
    "                                    train_data),\n",
    "                       index_col=(0))\n",
    "train_df.rename(columns={'positions': 'board', 'moves': 'move'}, inplace=True)\n",
    "train_df.drop_duplicates(inplace=True)\n",
    "pred_df_fin = pd.merge(pred_df_mod, train_df,\n",
    "                       on=[\"board\",\"move\"], how='left',\n",
    "                       indicator='Exist')\n",
    "common_total = len(pred_df_fin[pred_df_fin['Exist'] == 'both'])\n",
    "pred_df_fin = pred_df_fin[pred_df_fin['Exist'] == 'left_only']\n",
    "pred_df_fin.drop('Exist', inplace=True, axis=1)\n",
    "print(f'Common positions with train data: {common_total:,}\\n'\n",
    "      f'Total predictions (unique position-moves): {len(pred_df_fin):,}')"
   ]
  },
  {
   "cell_type": "markdown",
   "id": "e5705c34",
   "metadata": {},
   "source": [
    "### Accuracy - unique position-moves"
   ]
  },
  {
   "cell_type": "code",
   "execution_count": 70,
   "id": "9c4c7842",
   "metadata": {},
   "outputs": [
    {
     "name": "stdout",
     "output_type": "stream",
     "text": [
      "total: 125,444 tp1: 125,441 tp2: 2 tp3: 0 fp: 7 tn: 1 tn1: 3 acc: 99.997608%\n"
     ]
    }
   ],
   "source": [
    "total = len(pred_df_fin)\n",
    "tp1 = len(pred_df_fin[pred_df_fin['move'] == pred_df_fin['engine_move_1']])\n",
    "tp2 = len(pred_df_fin[pred_df_fin['move'] == pred_df_fin['engine_move_2']])\n",
    "tp3 = len(pred_df_fin[pred_df_fin['move'] == pred_df_fin['engine_move_3']])\n",
    "fp = len(pred_df_fin[pred_df_fin['illegal_top_move']])\n",
    "tn = original_total - (tp1_original + tp2_original + tp3_original)\n",
    "#tn_original = pred_df[~pred_df[['engine_move_1', 'engine_move_2', 'engine_move_3']].isin(pred_df['move']).any(1)]\n",
    "print(f\"total: {total:,} tp1: {tp1:,} \"\n",
    "      f\"tp2: {tp2:,} tp3: {tp3:,} \"\n",
    "      f\"fp: {fp:,} tn: {tn:,} \"\n",
    "      f\"tn1: {total-tp1:,} acc: {(tp1/total)*100:,f}%\")"
   ]
  },
  {
   "cell_type": "markdown",
   "id": "5a68f992",
   "metadata": {},
   "source": [
    "## Train loss"
   ]
  },
  {
   "cell_type": "code",
   "execution_count": 63,
   "id": "d59a1e00",
   "metadata": {},
   "outputs": [
    {
     "data": {
      "text/html": [
       "<div>\n",
       "<style scoped>\n",
       "    .dataframe tbody tr th:only-of-type {\n",
       "        vertical-align: middle;\n",
       "    }\n",
       "\n",
       "    .dataframe tbody tr th {\n",
       "        vertical-align: top;\n",
       "    }\n",
       "\n",
       "    .dataframe thead th {\n",
       "        text-align: right;\n",
       "    }\n",
       "</style>\n",
       "<table border=\"1\" class=\"dataframe\">\n",
       "  <thead>\n",
       "    <tr style=\"text-align: right;\">\n",
       "      <th></th>\n",
       "      <th>400_Jiyarkhan</th>\n",
       "    </tr>\n",
       "  </thead>\n",
       "  <tbody>\n",
       "    <tr>\n",
       "      <th>0</th>\n",
       "      <td>8.495592</td>\n",
       "    </tr>\n",
       "    <tr>\n",
       "      <th>1</th>\n",
       "      <td>8.349093</td>\n",
       "    </tr>\n",
       "    <tr>\n",
       "      <th>2</th>\n",
       "      <td>8.272376</td>\n",
       "    </tr>\n",
       "    <tr>\n",
       "      <th>3</th>\n",
       "      <td>8.188091</td>\n",
       "    </tr>\n",
       "    <tr>\n",
       "      <th>4</th>\n",
       "      <td>8.165821</td>\n",
       "    </tr>\n",
       "  </tbody>\n",
       "</table>\n",
       "</div>"
      ],
      "text/plain": [
       "   400_Jiyarkhan\n",
       "0       8.495592\n",
       "1       8.349093\n",
       "2       8.272376\n",
       "3       8.188091\n",
       "4       8.165821"
      ]
     },
     "execution_count": 63,
     "metadata": {},
     "output_type": "execute_result"
    }
   ],
   "source": [
    "loss_df = pd.read_csv(os.path.join(os.getcwd(),'dt_chess',\n",
    "                                   'training_losses_k2','linear_400_Jiyarkhan_k2_train_loss.csv'),\n",
    "                      header=0)\n",
    "loss_df.head()"
   ]
  },
  {
   "cell_type": "code",
   "execution_count": 30,
   "id": "396ff8bd",
   "metadata": {},
   "outputs": [
    {
     "name": "stdout",
     "output_type": "stream",
     "text": [
      "Max train loss: 8.495592\n",
      "Min train loss: 0.000023\n"
     ]
    }
   ],
   "source": [
    "print(f\"Max train loss: {loss_df.max()[0]:f}\\n\"\n",
    "      f\"Min train loss: {loss_df.min()[0]:f}\")"
   ]
  },
  {
   "cell_type": "code",
   "execution_count": 31,
   "id": "19daf180",
   "metadata": {},
   "outputs": [
    {
     "data": {
      "image/png": "[encoded data removed]",
      "text/plain": [
       "<Figure size 1152x720 with 1 Axes>"
      ]
     },
     "metadata": {
      "needs_background": "light"
     },
     "output_type": "display_data"
    }
   ],
   "source": [
    "%matplotlib inline\n",
    "def round_up(x, base=5):\n",
    "    result = x + ((base - x) % base)\n",
    "    # In this perticular case hard cap to 100\n",
    "    # because we are working with accuracy\n",
    "    if result > 100:\n",
    "       result = 100\n",
    "    return result\n",
    "\n",
    "#PDF plot\n",
    "plt.figure(figsize=(16, 10))\n",
    "ax = sns.lineplot(data = loss_df)\n",
    "ax.set(xlabel='Iteration')\n",
    "ax.set(ylabel='Train Loss')\n",
    "#Set major and minor ticks\n",
    "ax.yaxis.set_major_locator(MultipleLocator(0.5))\n",
    "ax.yaxis.set_minor_locator(MultipleLocator(0.1))\n",
    "ax.tick_params(axis='y', which='both', left=True)\n",
    "ax.xaxis.set_major_locator(MultipleLocator(25))\n",
    "ax.xaxis.set_minor_locator(MultipleLocator(5))\n",
    "ax.tick_params(axis='x', which='both', bottom=True)\n",
    "ax.tick_params(axis=\"x\", which=\"both\", rotation=45)\n",
    "#Extend y-limits\n",
    "plt.ylim(0,round_up(loss_df.max()[0],1))\n",
    "#Tighted x-limits\n",
    "plt.xlim(0,len(loss_df)-1)\n",
    "#Set grid\n",
    "plt.grid(visible = True, which = 'major', axis = 'y', linestyle = '-',zorder=0)\n",
    "plt.grid(visible = True, which = 'major', axis = 'x', linestyle = '-',zorder=0)\n",
    "plt.title(f\"First model's train loss for epoch 1 (batch size = 512) (k = 2)\")\n",
    "plt.tight_layout()\n",
    "plt.show()"
   ]
  },
  {
   "cell_type": "code",
   "execution_count": 57,
   "id": "51d561f4",
   "metadata": {},
   "outputs": [
    {
     "name": "stdout",
     "output_type": "stream",
     "text": [
      "Number of iterations (batches):2,355\n",
      "Number of positions trained on*: 1,205,760\n",
      "First batch to reach min train loss (0.000023): 2,354\n",
      "Number of positions to this batch: 1,205,248\n",
      "First batch to reach train loss < 0.01: 758\n",
      "Number of positions to this batch:: 388,096\n",
      "*Total number of position is slightly smaller because last batch is not whole\n"
     ]
    }
   ],
   "source": [
    "print(f\"Number of iterations (batches):{len(loss_df):,}\\n\"\n",
    "      f\"Number of positions trained on*: {len(loss_df)*512:,}\\n\"\n",
    "      f\"First batch to reach min train loss ({loss_df.min()[0]:f}): {loss_df.idxmin()[0]:,}\\n\"\n",
    "      f\"Number of positions to this batch: {loss_df.idxmin()[0]*512:,}\\n\"\n",
    "      f\"First batch to reach train loss < 0.01: {loss_df.le(0.01).idxmax()[0]}\\n\"\n",
    "      f\"Number of positions to this batch:: {loss_df.le(0.01).idxmax()[0]*512:,}\\n\"\n",
    "      \"*Total number of position is slightly smaller because last batch is not whole\")"
   ]
  }
 ],
 "metadata": {
  "kernelspec": {
   "display_name": "Python 3 (ipykernel)",
   "language": "python",
   "name": "python3"
  },
  "language_info": {
   "codemirror_mode": {
    "name": "ipython",
    "version": 3
   },
   "file_extension": ".py",
   "mimetype": "text/x-python",
   "name": "python",
   "nbconvert_exporter": "python",
   "pygments_lexer": "ipython3",
   "version": "3.8.12"
  },
  "toc": {
   "base_numbering": 1,
   "nav_menu": {},
   "number_sections": true,
   "sideBar": true,
   "skip_h1_title": false,
   "title_cell": "Table of Contents",
   "title_sidebar": "Contents",
   "toc_cell": false,
   "toc_position": {
    "height": "calc(100% - 180px)",
    "left": "10px",
    "top": "150px",
    "width": "250.433px"
   },
   "toc_section_display": true,
   "toc_window_display": true
  }
 },
 "nbformat": 4,
 "nbformat_minor": 5
}
